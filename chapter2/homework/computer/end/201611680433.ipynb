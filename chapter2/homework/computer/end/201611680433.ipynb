{
 "cells": [
  {
   "cell_type": "code",
   "execution_count": null,
   "metadata": {
    "collapsed": true
   },
   "outputs": [],
   "source": [
    "1、写函数，给定符号和行数，如’*’，5，可打印相应行数的如下菱形。主程序输入符号和行数调用该函数进行验证。（20分）"
   ]
  },
  {
   "cell_type": "code",
   "execution_count": 2,
   "metadata": {
    "collapsed": false
   },
   "outputs": [
    {
     "name": "stdout",
     "output_type": "stream",
     "text": [
      "    * \n",
      "   * * \n",
      "  * * * \n",
      " * * * * \n",
      "* * * * * \n",
      " * * * * \n",
      "  * * * \n",
      "   * * \n",
      "    * \n"
     ]
    }
   ],
   "source": [
    "line = '*' *5\n",
    "for i in range(1, 6):\n",
    "    print((5-i)*' '+(line[0]+' ')*i, end='')\n",
    "    print()\n",
    "for i in range(4,0,-1):\n",
    "    print((5-i)*' '+(line[0]+' ')*i,end='')\n",
    "    print()\n"
   ]
  },
  {
   "cell_type": "code",
   "execution_count": null,
   "metadata": {
    "collapsed": true
   },
   "outputs": [],
   "source": [
    "2、用递归和非递归分别实现函数求1!+2!+3!+...+n!，主程序以n=10分别调用。（20分）"
   ]
  },
  {
   "cell_type": "code",
   "execution_count": 8,
   "metadata": {
    "collapsed": false
   },
   "outputs": [
    {
     "name": "stdout",
     "output_type": "stream",
     "text": [
      "3628800\n",
      "4037913\n"
     ]
    }
   ],
   "source": [
    "def recusive_sum(n):\n",
    "    sum=0\n",
    "    if n == 0:\n",
    "        sum+=1\n",
    "    else:\n",
    "        sum+=n*recusive_sum(n-1)\n",
    "    return sum\n",
    "\n",
    "def notrecusive_sum(n):\n",
    "    sum=0\n",
    "    i=1\n",
    "    j=1\n",
    "    while(i<=n):\n",
    "        j=j*i\n",
    "        sum+=j\n",
    "        i+=1\n",
    "    return sum\n",
    "\n",
    "print(recusive_sum(10))\n",
    "print(notrecusive_sum(10))\n"
   ]
  },
  {
   "cell_type": "code",
   "execution_count": null,
   "metadata": {
    "collapsed": true
   },
   "outputs": [],
   "source": [
    "3、北京车牌号的一般形式为：“京X-YYYYY”，其中X为字母，Y为字母或者数字，字母不能为I或者O，数字只能0-9之间。\n",
    "请编写程序模拟选号过程：一次可以随机生成10个车牌号（不能有重复），依次将其编号为0-9，显示给用户。（20分）\n"
   ]
  },
  {
   "cell_type": "code",
   "execution_count": 11,
   "metadata": {
    "collapsed": false
   },
   "outputs": [
    {
     "ename": "TypeError",
     "evalue": "'module' object is not callable",
     "output_type": "error",
     "traceback": [
      "\u001b[0;31m---------------------------------------------------------------------------\u001b[0m",
      "\u001b[0;31mTypeError\u001b[0m                                 Traceback (most recent call last)",
      "\u001b[0;32m<ipython-input-11-dd772d8637be>\u001b[0m in \u001b[0;36m<module>\u001b[0;34m()\u001b[0m\n\u001b[1;32m     10\u001b[0m         \u001b[0mprint\u001b[0m\u001b[1;33m(\u001b[0m\u001b[0mi\u001b[0m\u001b[1;33m+\u001b[0m\u001b[1;36m1\u001b[0m\u001b[1;33m,\u001b[0m\u001b[1;34m':'\u001b[0m\u001b[1;33m,\u001b[0m\u001b[1;34m'京'\u001b[0m\u001b[1;33m,\u001b[0m\u001b[0mlist1\u001b[0m\u001b[1;33m[\u001b[0m\u001b[0mi\u001b[0m\u001b[1;33m]\u001b[0m\u001b[1;33m,\u001b[0m\u001b[1;34m'-'\u001b[0m\u001b[1;33m,\u001b[0m\u001b[0mlist2\u001b[0m\u001b[1;33m[\u001b[0m\u001b[0mi\u001b[0m\u001b[1;33m]\u001b[0m\u001b[1;33m)\u001b[0m\u001b[1;33m\u001b[0m\u001b[0m\n\u001b[1;32m     11\u001b[0m \u001b[1;33m\u001b[0m\u001b[0m\n\u001b[0;32m---> 12\u001b[0;31m \u001b[0mchepai\u001b[0m\u001b[1;33m(\u001b[0m\u001b[1;33m)\u001b[0m\u001b[1;33m\u001b[0m\u001b[0m\n\u001b[0m",
      "\u001b[0;32m<ipython-input-11-dd772d8637be>\u001b[0m in \u001b[0;36mchepai\u001b[0;34m()\u001b[0m\n\u001b[1;32m      5\u001b[0m     \u001b[0mlist2\u001b[0m\u001b[1;33m=\u001b[0m\u001b[1;33m[\u001b[0m\u001b[1;33m]\u001b[0m\u001b[1;33m\u001b[0m\u001b[0m\n\u001b[1;32m      6\u001b[0m     \u001b[1;32mfor\u001b[0m \u001b[0mi\u001b[0m \u001b[1;32min\u001b[0m \u001b[0mrange\u001b[0m\u001b[1;33m(\u001b[0m\u001b[1;36m10\u001b[0m\u001b[1;33m)\u001b[0m\u001b[1;33m:\u001b[0m\u001b[1;33m\u001b[0m\u001b[0m\n\u001b[0;32m----> 7\u001b[0;31m         \u001b[0mlist1\u001b[0m\u001b[1;33m[\u001b[0m\u001b[0mi\u001b[0m\u001b[1;33m]\u001b[0m\u001b[1;33m=\u001b[0m\u001b[0mchr\u001b[0m\u001b[1;33m(\u001b[0m\u001b[0mrandom\u001b[0m\u001b[1;33m(\u001b[0m\u001b[1;36m65\u001b[0m\u001b[1;33m,\u001b[0m\u001b[1;36m73\u001b[0m\u001b[1;33m)\u001b[0m \u001b[1;32mor\u001b[0m \u001b[0mrandom\u001b[0m\u001b[1;33m(\u001b[0m\u001b[1;36m74\u001b[0m\u001b[1;33m,\u001b[0m\u001b[1;36m79\u001b[0m\u001b[1;33m)\u001b[0m \u001b[1;32mor\u001b[0m \u001b[0mrandom\u001b[0m\u001b[1;33m(\u001b[0m\u001b[1;36m80\u001b[0m\u001b[1;33m,\u001b[0m\u001b[1;36m91\u001b[0m\u001b[1;33m)\u001b[0m\u001b[1;33m)\u001b[0m\u001b[1;33m\u001b[0m\u001b[0m\n\u001b[0m\u001b[1;32m      8\u001b[0m         \u001b[0mlist2\u001b[0m\u001b[1;33m[\u001b[0m\u001b[0mi\u001b[0m\u001b[1;33m]\u001b[0m\u001b[1;33m=\u001b[0m\u001b[0mchr\u001b[0m\u001b[1;33m(\u001b[0m\u001b[0mrandom\u001b[0m\u001b[1;33m(\u001b[0m\u001b[1;36m48\u001b[0m\u001b[1;33m,\u001b[0m\u001b[1;36m58\u001b[0m\u001b[1;33m)\u001b[0m\u001b[1;33m)\u001b[0m\u001b[1;33m\u001b[0m\u001b[0m\n\u001b[1;32m      9\u001b[0m     \u001b[1;32mfor\u001b[0m \u001b[0mi\u001b[0m \u001b[1;32min\u001b[0m \u001b[0mrange\u001b[0m\u001b[1;33m(\u001b[0m\u001b[1;36m10\u001b[0m\u001b[1;33m)\u001b[0m\u001b[1;33m:\u001b[0m\u001b[1;33m\u001b[0m\u001b[0m\n",
      "\u001b[0;31mTypeError\u001b[0m: 'module' object is not callable"
     ]
    }
   ],
   "source": [
    "import random\n",
    "\n",
    "def chepai():\n",
    "    list1=[]\n",
    "    list2=[]\n",
    "    for i in range(10):\n",
    "        list1[i]=chr(random(65,73) or random(74,79) or random(80,91))\n",
    "        list2[i]=chr(random(48,58))\n",
    "    for i in range(10):\n",
    "        print(i+1,':','京',list1[i],'-',list2[i])\n",
    "        \n",
    "chepai()"
   ]
  },
  {
   "cell_type": "code",
   "execution_count": null,
   "metadata": {
    "collapsed": true
   },
   "outputs": [],
   "source": [
    "4、两个向量间的距离可定义为两个向量间的夹角余弦值，给定三个向量，求向量间距离的最小值。三个向量为：[1,2,3,4],[4,5,6,7],[7,8,9,10]（20分）"
   ]
  },
  {
   "cell_type": "code",
   "execution_count": 4,
   "metadata": {
    "collapsed": false
   },
   "outputs": [
    {
     "name": "stdout",
     "output_type": "stream",
     "text": [
      "0.020732102364755426\n"
     ]
    }
   ],
   "source": [
    "list1=[1,2,3,4]\n",
    "list2=[4,5,6,7]\n",
    "list3=[7,8,9,10]\n",
    "\n",
    "def juli(lista,listb):\n",
    "    sum=0\n",
    "    for i in range(4):\n",
    "        sum+=lista[i]*listb[i]\n",
    "    chenga=0\n",
    "    for i in range(4):\n",
    "        chenga+=lista[i]**2\n",
    "    chenga=chenga*(1/2)\n",
    "    chengb=0\n",
    "    for i in range(4):\n",
    "        chengb+=listb[i]**2\n",
    "    chengb=chengb*(1/2)\n",
    "    return sum/(chenga*chengb)\n",
    "\n",
    "a=juli(list1,list2)\n",
    "b=juli(list2,list3)\n",
    "c=juli(list1,list3)\n",
    "\n",
    "if a<b and a<c:\n",
    "    print(a)\n",
    "if b<a and b<c:\n",
    "    print(b)\n",
    "if c<a and c<b:\n",
    "    print(c)"
   ]
  },
  {
   "cell_type": "code",
   "execution_count": null,
   "metadata": {
    "collapsed": true
   },
   "outputs": [],
   "source": [
    "5、随机生成100000个整数（1-10000之间）作为集合A，随机生成100000个整数（1-15000之间）作为集合B。\n",
    "（a）得到A,B所有出现的数及出现次数，分别输出到文件a.txt，b.txt中（新建文件），请输出多行，每行为两个数，两个数之间用逗号分隔（5分）；\n",
    "（b）列出A中所有回文数（例：12321）以及出现的次数（5分）；\n",
    "（c）列出B中分别由1-5个数字组成的数各自的总次数与总和，并按照总次数排序输出（如223就是3个数字组成的数，2834就是4个数字组成的数）（5分）；\n",
    "（d）从a.txt,b.txt读入得到A与B中出现的数（注意不要次数），计算既出现在A又出现在B中的数，追加输出到文件a.txt（5分）。"
   ]
  },
  {
   "cell_type": "code",
   "execution_count": 6,
   "metadata": {
    "collapsed": false
   },
   "outputs": [
    {
     "name": "stdout",
     "output_type": "stream",
     "text": [
      "[[22, 1], [33, 1], [6, 3], [47, 1], [50, 2], [19, 1], [85, 3], [73, 2], [23, 2], [2, 4], [95, 1], [6, 3], [43, 3], [65, 1], [80, 2], [41, 2], [37, 1], [48, 2], [9, 1], [94, 3], [56, 2], [72, 1], [50, 2], [71, 1], [46, 1], [69, 2], [52, 3], [30, 3], [43, 3], [57, 1], [30, 3], [40, 1], [6, 3], [26, 1], [89, 1], [0, 1], [52, 3], [11, 2], [7, 1], [15, 1], [92, 2], [38, 1], [97, 1], [58, 2], [100, 1], [43, 3], [68, 1], [4, 1], [62, 1], [45, 1], [70, 1], [77, 1], [2, 4], [82, 1], [25, 1], [80, 2], [30, 3], [2, 4], [96, 1], [79, 2], [60, 1], [73, 2], [36, 2], [39, 1], [2, 4], [23, 2], [56, 2], [79, 2], [63, 2], [78, 1], [34, 1], [88, 3], [85, 3], [83, 2], [11, 2], [48, 2], [84, 1], [94, 3], [94, 3], [88, 3], [63, 2], [76, 1], [88, 3], [41, 2], [83, 2], [67, 1], [54, 1], [13, 1], [69, 2], [58, 2], [21, 1], [27, 1], [32, 1], [18, 1], [36, 2], [91, 1], [5, 1], [85, 3], [52, 3], [92, 2]]\n",
      "[[68, 1], [30, 3], [30, 3], [101, 0], [0, 1], [145, 0], [3, 0], [95, 1], [95, 1], [95, 1], [49, 0], [58, 2], [11, 2], [26, 1], [15, 1], [35, 0], [0, 1], [70, 1], [64, 0], [55, 0], [128, 0], [145, 0], [78, 1], [44, 0], [14, 0], [116, 0], [68, 1], [55, 0], [146, 0], [64, 0], [136, 0], [38, 1], [120, 0], [5, 1], [70, 1], [141, 0], [102, 0], [80, 2], [89, 1], [37, 1], [27, 1], [111, 0], [139, 0], [70, 1], [123, 0], [46, 1], [133, 0], [43, 3], [103, 0], [114, 0], [88, 3], [20, 0], [75, 0], [34, 1], [124, 0], [76, 1], [112, 0], [36, 2], [32, 1], [127, 0], [97, 1], [46, 1], [77, 1], [80, 2], [34, 1], [90, 0], [118, 0], [25, 1], [122, 0], [39, 1], [77, 1], [140, 0], [123, 0], [17, 0], [46, 1], [77, 1], [34, 1], [126, 0], [42, 0], [104, 0], [3, 0], [96, 1], [28, 0], [81, 0], [135, 0], [63, 2], [113, 0], [99, 0], [144, 0], [79, 2], [66, 0], [64, 0], [108, 0], [102, 0], [65, 1], [134, 0], [26, 1], [37, 1], [147, 0], [12, 0]]\n"
     ]
    }
   ],
   "source": [
    "import random\n",
    "def countfreq(filename, words):\n",
    "    freq_pairs = []\n",
    "    with open(filename) as fh:\n",
    "        text = fh.read()\n",
    "    for word in words:\n",
    "        number = a.count(word)\n",
    "        freq_pairs.append([word, number])\n",
    "    return freq_pairs\n",
    "\n",
    "filenamea = r'd:\\temp\\a.txt'\n",
    "a=[random.randint(0,101) for _ in range(100)]\n",
    "tablea = countfreq(filenamea,a)\n",
    "print(tablea[:100])\n",
    "\n",
    "filenameb= r'd:\\temp\\b.txt'\n",
    "b=[random.randint(0,151) for _ in range(150)]\n",
    "tableb = countfreq(filenameb,b)\n",
    "print(tableb[:100])"
   ]
  },
  {
   "cell_type": "code",
   "execution_count": null,
   "metadata": {
    "collapsed": true
   },
   "outputs": [],
   "source": []
  }
 ],
 "metadata": {
  "kernelspec": {
   "display_name": "Python 3",
   "language": "python",
   "name": "python3"
  }
 },
 "nbformat": 4,
 "nbformat_minor": 2
}
